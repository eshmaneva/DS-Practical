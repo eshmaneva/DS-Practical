{
  "cells": [
    {
      "cell_type": "code",
      "execution_count": null,
      "metadata": {
        "id": "5850uZBLUv7m",
        "colab": {
          "base_uri": "https://localhost:8080/"
        },
        "outputId": "93bf5a88-23f9-4010-9b21-2147b0984a33"
      },
      "outputs": [
        {
          "output_type": "stream",
          "name": "stdout",
          "text": [
            "\u001b[K     |████████████████████████████████| 2.1 MB 4.2 MB/s \n",
            "\u001b[K     |████████████████████████████████| 880 kB 28.7 MB/s \n",
            "\u001b[K     |████████████████████████████████| 3.3 MB 6.1 MB/s \n",
            "\u001b[?25h  Building wheel for sacremoses (setup.py) ... \u001b[?25l\u001b[?25hdone\n",
            "\u001b[K     |████████████████████████████████| 584 kB 4.2 MB/s \n",
            "\u001b[K     |████████████████████████████████| 596 kB 65.0 MB/s \n",
            "\u001b[K     |████████████████████████████████| 140 kB 87.7 MB/s \n",
            "\u001b[K     |████████████████████████████████| 409 kB 65.1 MB/s \n",
            "\u001b[K     |████████████████████████████████| 1.1 MB 63.2 MB/s \n",
            "\u001b[K     |████████████████████████████████| 144 kB 77.1 MB/s \n",
            "\u001b[K     |████████████████████████████████| 94 kB 3.7 MB/s \n",
            "\u001b[K     |████████████████████████████████| 271 kB 89.8 MB/s \n",
            "\u001b[K     |████████████████████████████████| 462 kB 4.1 MB/s \n",
            "\u001b[?25h"
          ]
        }
      ],
      "source": [
        "#Preinstalling necessary libraries / specificated versions are necessary to avoid compatibility issues\n",
        "!pip install --quiet transformers==4.5\n",
        "!pip install --quiet rouge_score\n",
        "!pip install --quiet pytorch-lightning\n",
        "!pip install --quiet tensorflow\n",
        "!pip install --quiet tensorboard\n",
        "!pip install --quiet nltk"
      ]
    },
    {
      "cell_type": "code",
      "execution_count": null,
      "metadata": {
        "colab": {
          "base_uri": "https://localhost:8080/"
        },
        "id": "tt73LxLTgNxd",
        "outputId": "352578be-fc8c-44ee-b2c5-56e051158c29"
      },
      "outputs": [
        {
          "output_type": "stream",
          "name": "stdout",
          "text": [
            "[nltk_data] Downloading package stopwords to /root/nltk_data...\n",
            "[nltk_data]   Unzipping corpora/stopwords.zip.\n",
            "[nltk_data] Downloading package punkt to /root/nltk_data...\n",
            "[nltk_data]   Unzipping tokenizers/punkt.zip.\n"
          ]
        }
      ],
      "source": [
        "#importing necessary libraries and packages\n",
        "import pandas as pd\n",
        "import numpy as np\n",
        "import logging \n",
        "import torch\n",
        "from torch.utils.data import DataLoader,Dataset\n",
        "import pytorch_lightning as pl\n",
        "import matplotlib.pyplot as plt\n",
        "import seaborn as sns\n",
        "\n",
        "\n",
        "from dataclasses import dataclass#, field\n",
        "from typing import Optional\n",
        "\n",
        "#imoporting tokenizer and T5 model\n",
        "from transformers import T5ForConditionalGeneration, T5TokenizerFast, AdamW, Trainer, TrainingArguments\n",
        "\n",
        "\n",
        "from pytorch_lightning.callbacks import ModelCheckpoint\n",
        "from pytorch_lightning.loggers import TensorBoardLogger\n",
        "from rouge_score import rouge_scorer\n",
        "\n",
        "#packages and libraries for removing stopwords\n",
        "import re\n",
        "import nltk\n",
        "nltk.download('stopwords')\n",
        "nltk.download('punkt')\n",
        "from nltk.corpus import stopwords\n",
        "from nltk.tokenize import word_tokenize"
      ]
    },
    {
      "cell_type": "code",
      "execution_count": null,
      "metadata": {
        "colab": {
          "base_uri": "https://localhost:8080/"
        },
        "id": "BEd-jP6qojdF",
        "outputId": "d7e18ae7-03ef-4202-b00d-60fd46020a4f"
      },
      "outputs": [
        {
          "output_type": "stream",
          "name": "stdout",
          "text": [
            "Num GPUs Available:  1\n"
          ]
        }
      ],
      "source": [
        "#Checking the avaliable GPUs (not necessary, made as a test of the system)\n",
        "import tensorflow as tf\n",
        "num_gpus_available = len(tf.config.experimental.list_physical_devices('GPU'))\n",
        "print(\"Num GPUs Available: \", num_gpus_available)\n",
        "assert num_gpus_available > 0"
      ]
    },
    {
      "cell_type": "code",
      "execution_count": null,
      "metadata": {
        "colab": {
          "base_uri": "https://localhost:8080/"
        },
        "id": "SQZLWHrpGbiO",
        "outputId": "4a21a398-88cb-4a8f-8a0f-645df44c62cf"
      },
      "outputs": [
        {
          "output_type": "stream",
          "name": "stdout",
          "text": [
            "Mounted at /content/drive\n"
          ]
        }
      ],
      "source": [
        "#Importing Google Drive for reading the data\n",
        "from google.colab import drive\n",
        "drive.mount('/content/drive')"
      ]
    },
    {
      "cell_type": "code",
      "execution_count": null,
      "metadata": {
        "colab": {
          "base_uri": "https://localhost:8080/",
          "height": 296
        },
        "id": "e12YB95pGfN-",
        "outputId": "9ff6806d-3bba-487f-88df-fa0e776f774b"
      },
      "outputs": [
        {
          "output_type": "stream",
          "name": "stderr",
          "text": [
            "/usr/local/lib/python3.7/dist-packages/IPython/core/interactiveshell.py:2882: FutureWarning: The error_bad_lines argument has been deprecated and will be removed in a future version.\n",
            "\n",
            "\n",
            "  exec(code_obj, self.user_global_ns, self.user_ns)\n"
          ]
        },
        {
          "output_type": "execute_result",
          "data": {
            "text/plain": [
              "                 Summary                                               Text\n",
              "0  Good Quality Dog Food  I have bought several of the Vitality canned d...\n",
              "1      Not as Advertised  Product arrived labeled as Jumbo Salted Peanut...\n",
              "2  \"Delight\" says it all  This is a confection that has been around a fe...\n",
              "3         Cough Medicine  If you are looking for the secret ingredient i...\n",
              "4            Great taffy  Great taffy at a great price.  There was a wid..."
            ],
            "text/html": [
              "\n",
              "  <div id=\"df-9a2db0cd-d2f4-4cab-aded-d8d94a2d9a59\">\n",
              "    <div class=\"colab-df-container\">\n",
              "      <div>\n",
              "<style scoped>\n",
              "    .dataframe tbody tr th:only-of-type {\n",
              "        vertical-align: middle;\n",
              "    }\n",
              "\n",
              "    .dataframe tbody tr th {\n",
              "        vertical-align: top;\n",
              "    }\n",
              "\n",
              "    .dataframe thead th {\n",
              "        text-align: right;\n",
              "    }\n",
              "</style>\n",
              "<table border=\"1\" class=\"dataframe\">\n",
              "  <thead>\n",
              "    <tr style=\"text-align: right;\">\n",
              "      <th></th>\n",
              "      <th>Summary</th>\n",
              "      <th>Text</th>\n",
              "    </tr>\n",
              "  </thead>\n",
              "  <tbody>\n",
              "    <tr>\n",
              "      <th>0</th>\n",
              "      <td>Good Quality Dog Food</td>\n",
              "      <td>I have bought several of the Vitality canned d...</td>\n",
              "    </tr>\n",
              "    <tr>\n",
              "      <th>1</th>\n",
              "      <td>Not as Advertised</td>\n",
              "      <td>Product arrived labeled as Jumbo Salted Peanut...</td>\n",
              "    </tr>\n",
              "    <tr>\n",
              "      <th>2</th>\n",
              "      <td>\"Delight\" says it all</td>\n",
              "      <td>This is a confection that has been around a fe...</td>\n",
              "    </tr>\n",
              "    <tr>\n",
              "      <th>3</th>\n",
              "      <td>Cough Medicine</td>\n",
              "      <td>If you are looking for the secret ingredient i...</td>\n",
              "    </tr>\n",
              "    <tr>\n",
              "      <th>4</th>\n",
              "      <td>Great taffy</td>\n",
              "      <td>Great taffy at a great price.  There was a wid...</td>\n",
              "    </tr>\n",
              "  </tbody>\n",
              "</table>\n",
              "</div>\n",
              "      <button class=\"colab-df-convert\" onclick=\"convertToInteractive('df-9a2db0cd-d2f4-4cab-aded-d8d94a2d9a59')\"\n",
              "              title=\"Convert this dataframe to an interactive table.\"\n",
              "              style=\"display:none;\">\n",
              "        \n",
              "  <svg xmlns=\"http://www.w3.org/2000/svg\" height=\"24px\"viewBox=\"0 0 24 24\"\n",
              "       width=\"24px\">\n",
              "    <path d=\"M0 0h24v24H0V0z\" fill=\"none\"/>\n",
              "    <path d=\"M18.56 5.44l.94 2.06.94-2.06 2.06-.94-2.06-.94-.94-2.06-.94 2.06-2.06.94zm-11 1L8.5 8.5l.94-2.06 2.06-.94-2.06-.94L8.5 2.5l-.94 2.06-2.06.94zm10 10l.94 2.06.94-2.06 2.06-.94-2.06-.94-.94-2.06-.94 2.06-2.06.94z\"/><path d=\"M17.41 7.96l-1.37-1.37c-.4-.4-.92-.59-1.43-.59-.52 0-1.04.2-1.43.59L10.3 9.45l-7.72 7.72c-.78.78-.78 2.05 0 2.83L4 21.41c.39.39.9.59 1.41.59.51 0 1.02-.2 1.41-.59l7.78-7.78 2.81-2.81c.8-.78.8-2.07 0-2.86zM5.41 20L4 18.59l7.72-7.72 1.47 1.35L5.41 20z\"/>\n",
              "  </svg>\n",
              "      </button>\n",
              "      \n",
              "  <style>\n",
              "    .colab-df-container {\n",
              "      display:flex;\n",
              "      flex-wrap:wrap;\n",
              "      gap: 12px;\n",
              "    }\n",
              "\n",
              "    .colab-df-convert {\n",
              "      background-color: #E8F0FE;\n",
              "      border: none;\n",
              "      border-radius: 50%;\n",
              "      cursor: pointer;\n",
              "      display: none;\n",
              "      fill: #1967D2;\n",
              "      height: 32px;\n",
              "      padding: 0 0 0 0;\n",
              "      width: 32px;\n",
              "    }\n",
              "\n",
              "    .colab-df-convert:hover {\n",
              "      background-color: #E2EBFA;\n",
              "      box-shadow: 0px 1px 2px rgba(60, 64, 67, 0.3), 0px 1px 3px 1px rgba(60, 64, 67, 0.15);\n",
              "      fill: #174EA6;\n",
              "    }\n",
              "\n",
              "    [theme=dark] .colab-df-convert {\n",
              "      background-color: #3B4455;\n",
              "      fill: #D2E3FC;\n",
              "    }\n",
              "\n",
              "    [theme=dark] .colab-df-convert:hover {\n",
              "      background-color: #434B5C;\n",
              "      box-shadow: 0px 1px 3px 1px rgba(0, 0, 0, 0.15);\n",
              "      filter: drop-shadow(0px 1px 2px rgba(0, 0, 0, 0.3));\n",
              "      fill: #FFFFFF;\n",
              "    }\n",
              "  </style>\n",
              "\n",
              "      <script>\n",
              "        const buttonEl =\n",
              "          document.querySelector('#df-9a2db0cd-d2f4-4cab-aded-d8d94a2d9a59 button.colab-df-convert');\n",
              "        buttonEl.style.display =\n",
              "          google.colab.kernel.accessAllowed ? 'block' : 'none';\n",
              "\n",
              "        async function convertToInteractive(key) {\n",
              "          const element = document.querySelector('#df-9a2db0cd-d2f4-4cab-aded-d8d94a2d9a59');\n",
              "          const dataTable =\n",
              "            await google.colab.kernel.invokeFunction('convertToInteractive',\n",
              "                                                     [key], {});\n",
              "          if (!dataTable) return;\n",
              "\n",
              "          const docLinkHtml = 'Like what you see? Visit the ' +\n",
              "            '<a target=\"_blank\" href=https://colab.research.google.com/notebooks/data_table.ipynb>data table notebook</a>'\n",
              "            + ' to learn more about interactive tables.';\n",
              "          element.innerHTML = '';\n",
              "          dataTable['output_type'] = 'display_data';\n",
              "          await google.colab.output.renderOutput(dataTable, element);\n",
              "          const docLink = document.createElement('div');\n",
              "          docLink.innerHTML = docLinkHtml;\n",
              "          element.appendChild(docLink);\n",
              "        }\n",
              "      </script>\n",
              "    </div>\n",
              "  </div>\n",
              "  "
            ]
          },
          "metadata": {},
          "execution_count": 5
        }
      ],
      "source": [
        "#Reading and clearing the data\n",
        "#Vladana PATH\n",
        "#df=pd.read_csv(\"/content/drive/MyDrive/Colab Notebooks/Reviews.csv\", engine=\"python\", error_bad_lines=False)\n",
        "\n",
        "#Vallari PATH\n",
        "#df=pd.read_csv(\"/content/drive/MyDrive/Reviews.csv\", engine=\"python\", error_bad_lines=False)\n",
        "\n",
        "#Katja PATH\n",
        "df=pd.read_csv(\"/content/drive/MyDrive/DS Practical/Reviews.csv\", engine=\"python\", error_bad_lines=False)\n",
        "\n",
        "#deleting all columns that are not usefull for training summarization model\n",
        "df.drop(columns=['Id', 'ProductId', 'UserId', 'ProfileName', 'HelpfulnessNumerator','HelpfulnessDenominator', 'Score', 'Time'],axis=1,inplace=True)\n",
        "#print(\"Before\",len(df))\n",
        "df = df.dropna() #deleting enteries without any value\n",
        "#print(\"Data size:\",len(df))\n",
        "df.head() #preview of data"
      ]
    },
    {
      "cell_type": "code",
      "execution_count": null,
      "metadata": {
        "id": "chRloaxuGnBn"
      },
      "outputs": [],
      "source": [
        "#Shortening the data for testing purposes (remove the whole cell for full training)\n",
        "df1=df.loc[1:1000]  \n",
        "#df.shape\n",
        "#df1.shape\n",
        "#print(\"Data size:\",len(df1))"
      ]
    },
    {
      "cell_type": "code",
      "execution_count": null,
      "metadata": {
        "id": "LcADDc-an-TZ"
      },
      "outputs": [],
      "source": [
        "#Untokenize function from\n",
        "#https://github.com/commonsense/metanl/blob/master/metanl/token_utils.py\n",
        "def untokenize(words):\n",
        "    \"\"\"\n",
        "    Untokenizing a text undoes the tokenizing operation, restoring\n",
        "    punctuation and spaces to the places that people expect them to be.\n",
        "    Ideally, `untokenize(tokenize(text))` should be identical to `text`,\n",
        "    except for line breaks.\n",
        "    \"\"\"\n",
        "    text = ' '.join(words)\n",
        "    step1 = text.replace(\"`` \", '\"').replace(\" ''\", '\"').replace('. . .',  '...')\n",
        "    step2 = step1.replace(\" ( \", \" (\").replace(\" ) \", \") \")\n",
        "    step3 = re.sub(r' ([.,:;?!%]+)([ \\'\"`])', r\"\\1\\2\", step2)\n",
        "    step4 = re.sub(r' ([.,:;?!%]+)$', r\"\\1\", step3)\n",
        "    step5 = step4.replace(\" '\", \"'\").replace(\" n't\", \"n't\").replace(\n",
        "         \"can not\", \"cannot\")\n",
        "    step6 = step5.replace(\" ` \", \" '\")\n",
        "    return step6.strip()\n",
        "\n",
        "text = df1['Text']\n",
        "\n",
        "#Convert text to lowercase and split to a list of words\n",
        "tokens=[]\n",
        "for i in range(len(text)):\n",
        "  oneRow=text.iloc[i]\n",
        "  tokens.append(word_tokenize(oneRow.lower()))\n",
        "\n",
        "\n",
        "\n",
        "#initializing english stopwords to remove them from each Text of review\n",
        "english_stopwords = stopwords.words('english')\n",
        "tokensWoStopwords=[]\n",
        "\n",
        "#going thorugh each tokenized review text to remove all stopwords\n",
        "for i in range(len(tokens)):\n",
        "  tokens_wo_stopwords = [t for t in tokens[i] if t not in english_stopwords]\n",
        "  #appending untokenized review Text to new list \n",
        "  #but only keeping first 512 tokens, due to model limits\n",
        "  tokensWoStopwords.append(untokenize(tokens_wo_stopwords[:512]))\n",
        "\n",
        "#print(len(tokens_wo_stopwords))\n"
      ]
    },
    {
      "cell_type": "code",
      "execution_count": null,
      "metadata": {
        "colab": {
          "base_uri": "https://localhost:8080/"
        },
        "id": "CQs3c3oFIgll",
        "outputId": "d2b24ada-fc39-4d41-e835-a4288dbd6278"
      },
      "outputs": [
        {
          "output_type": "stream",
          "name": "stderr",
          "text": [
            "/usr/local/lib/python3.7/dist-packages/ipykernel_launcher.py:2: SettingWithCopyWarning: \n",
            "A value is trying to be set on a copy of a slice from a DataFrame.\n",
            "Try using .loc[row_indexer,col_indexer] = value instead\n",
            "\n",
            "See the caveats in the documentation: https://pandas.pydata.org/pandas-docs/stable/user_guide/indexing.html#returning-a-view-versus-a-copy\n",
            "  \n"
          ]
        },
        {
          "output_type": "execute_result",
          "data": {
            "text/plain": [
              "<bound method NDFrame.head of                                     Summary  \\\n",
              "0                         Not as Advertised   \n",
              "1                     \"Delight\" says it all   \n",
              "2                            Cough Medicine   \n",
              "3                               Great taffy   \n",
              "4                                Nice Taffy   \n",
              "..                                      ...   \n",
              "995  Great Hot Sauce and people who run it!   \n",
              "996               this sauce is the shiznit   \n",
              "997                                 Not Hot   \n",
              "998                   Not hot, not habanero   \n",
              "999                              best babka   \n",
              "\n",
              "                                                  Text  \n",
              "0    product arrived labeled jumbo salted peanuts.....  \n",
              "1    confection around centuries. light, pillowy ci...  \n",
              "2    looking secret ingredient robitussin believe f...  \n",
              "3    great taffy great price. wide assortment yummy...  \n",
              "4    got wild hair taffy ordered five pound bag. ta...  \n",
              "..                                                 ...  \n",
              "995  man say, salsa bomb! ! different kinds. almost...  \n",
              "996  sauce good anything, like adding asian food an...  \n",
              "997  hot. like low star reviewer, got suckered seei...  \n",
              "998  admit, sucker large quantity, 12 oz, shopping ...  \n",
              "999  never life tasted good babka crazy good! real ...  \n",
              "\n",
              "[1000 rows x 2 columns]>"
            ]
          },
          "metadata": {},
          "execution_count": 8
        }
      ],
      "source": [
        "#replacing Text with Text without stopwords\n",
        "df1['Text']=tokensWoStopwords\n",
        "df1=df1.reset_index(drop=True)\n",
        "df1.head #preview of data"
      ]
    },
    {
      "cell_type": "code",
      "execution_count": null,
      "metadata": {
        "id": "sOtl0dj0Gu0Q"
      },
      "outputs": [],
      "source": [
        "#Shortened dataset split into train , validation and test dataset \n",
        "#in ratio 80/10/10\n",
        "n_train = int(np.round(df1.shape[0]*0.8))\n",
        "n_val = int(np.round(df1.shape[0]*0.1))\n",
        "n_test = int(np.round(df1.shape[0]*0.1))\n",
        "train_data=df1.loc[:n_train]\n",
        "val_data=df1.loc[n_train:n_train+n_val]\n",
        "test_data=df1.loc[n_train+n_val:n_train+n_val+n_test]\n",
        "\n",
        "\n",
        "#Full dataset split \n",
        "#n_train = int(np.round(df.shape[0]*0.8))\n",
        "#n_val = int(np.round(df.shape[0]*0.1))\n",
        "#n_test = int(np.round(df.shape[0]*0.1))\n",
        "#train_data=df.loc[:n_train]\n",
        "#val_data=df.loc[n_train:n_train+n_val]\n",
        "#test_data=df.loc[n_train+n_val:n_train+n_val+n_test]\n"
      ]
    },
    {
      "cell_type": "code",
      "execution_count": null,
      "metadata": {
        "id": "MigmbIskNkP5"
      },
      "outputs": [],
      "source": [
        "#Checking shape how dataset is splitted\n",
        "#train_data.shape, test_data.shape, val_data.shape"
      ]
    },
    {
      "cell_type": "code",
      "execution_count": null,
      "metadata": {
        "id": "ulUQFJPRO2Z0"
      },
      "outputs": [],
      "source": [
        "#Creating dataset shape for new T5 model for summarisation\n",
        "class SummaryDataset (Dataset):\n",
        "  def __init__ (\n",
        "      self,\n",
        "      data: pd.DataFrame,\n",
        "      tokenizer: T5TokenizerFast, #initializing tokenizer\n",
        "      text_max_token_len: int = 512, #setting maximum lenght of tokens for text\n",
        "      summary_max_token_len: int = 128 #setting maximum lenght of tokens for summary\n",
        "      ):\n",
        "    self.tokenizer = tokenizer\n",
        "    self.dataF = data \n",
        "    self.text_max_token_len = text_max_token_len\n",
        "    self.summary_max_token_len = summary_max_token_len\n",
        "  \n",
        "  def __len__(self):\n",
        "    return len(self.dataF)\n",
        "\n",
        "  def __getitem__(self, index: int):\n",
        "    data_row = self.dataF.iloc[index]\n",
        "    \n",
        "    text = data_row[\"Text\"]\n",
        "    #encoding Text value to be suitable for pretrained T5 model\n",
        "    text_encoding = tokenizer( \n",
        "        text,\n",
        "        max_length=self.text_max_token_len,\n",
        "        padding=\"max_length\",\n",
        "        truncation=True,\n",
        "        return_attention_mask=True,\n",
        "        add_special_tokens=True,\n",
        "        return_tensors=\"pt\"\n",
        "\n",
        "    )\n",
        "    #encoding Summary value to be suitable for pretrained T5 model\n",
        "    summary_encoding = tokenizer(\n",
        "        data_row[\"Summary\"],\n",
        "        max_length=self.summary_max_token_len,\n",
        "        padding=\"max_length\",\n",
        "        truncation=True,\n",
        "        return_attention_mask=True,\n",
        "        add_special_tokens=True,\n",
        "        return_tensors=\"pt\"\n",
        "\n",
        "    )\n",
        "\n",
        "    labels = summary_encoding[\"input_ids\"]\n",
        "    labels[labels==0]=-100\n",
        "    #reurning dictionary of tokenized Text and Summary of reviews \n",
        "    return dict(\n",
        "        text=text,\n",
        "        summary=data_row[\"Summary\"],\n",
        "        text_input_ids=text_encoding[\"input_ids\"].flatten(),\n",
        "        text_attention_mask=text_encoding[\"attention_mask\"].flatten(),\n",
        "        labels=labels.flatten(),\n",
        "        labels_attention_mask=summary_encoding[\"attention_mask\"].flatten()\n",
        "    )\n",
        "\n"
      ]
    },
    {
      "cell_type": "code",
      "execution_count": null,
      "metadata": {
        "id": "cYNcLjoDV7x3"
      },
      "outputs": [],
      "source": [
        "# encoding train, validation and test dataset to desired input of model \n",
        "class SummaryDataModule(pl.LightningDataModule):\n",
        "  def __init__(\n",
        "    self,\n",
        "    train_df: pd.DataFrame,\n",
        "    test_df: pd.DataFrame,\n",
        "    val_df: pd.DataFrame,\n",
        "    tokenizer: T5TokenizerFast,\n",
        "    batch_size: int = 8,\n",
        "    text_max_token_len: int = 512,\n",
        "    summary_max_token_len: int = 128\n",
        "  ):\n",
        "      \n",
        "    super ().__init__()\n",
        "      \n",
        "    self.train_df = train_df\n",
        "    self.test_df = test_df\n",
        "    self.val_df=val_df\n",
        "\n",
        "    self.batch_size = batch_size\n",
        "    self.tokenizer = tokenizer\n",
        "    self.text_max_token_len = text_max_token_len\n",
        "    self.summary_max_token_len = summary_max_token_len\n",
        "    \n",
        "  def setup(self, stage=None) :\n",
        "    self.train_dataset = SummaryDataset(\n",
        "        self.train_df,\n",
        "        self.tokenizer,\n",
        "        self.text_max_token_len,\n",
        "        self.summary_max_token_len\n",
        "        )\n",
        "   \n",
        "    \n",
        "    self.test_dataset = SummaryDataset(\n",
        "        self.test_df,\n",
        "        self.tokenizer,\n",
        "        self.text_max_token_len,\n",
        "        self.summary_max_token_len\n",
        "        )\n",
        "   \n",
        "    self.val_dataset = SummaryDataset(\n",
        "        self.val_df,\n",
        "        self.tokenizer,\n",
        "        self.text_max_token_len,\n",
        "        self.summary_max_token_len\n",
        "        )\n",
        "\n",
        "    \n",
        "  def train_dataloader(self):\n",
        "    return DataLoader(\n",
        "        self.train_dataset,\n",
        "        batch_size=self.batch_size,\n",
        "        shuffle=True,\n",
        "        num_workers=2\n",
        "        )\n",
        " \n",
        "  def val_dataloader(self):\n",
        "   return DataLoader(\n",
        "        self.val_dataset,\n",
        "        batch_size=self.batch_size,\n",
        "        shuffle=False,\n",
        "        num_workers=2\n",
        "        )\n",
        "  def test_dataloader(self):\n",
        "   return DataLoader(\n",
        "        self.test_dataset,\n",
        "        batch_size=self.batch_size,\n",
        "        shuffle=False,\n",
        "        num_workers=2\n",
        "        )\n",
        "   "
      ]
    },
    {
      "cell_type": "code",
      "execution_count": null,
      "metadata": {
        "id": "SwdQ_P36aNb-",
        "colab": {
          "base_uri": "https://localhost:8080/",
          "height": 81,
          "referenced_widgets": [
            "eed8cbf2fb71494fa0266757e95ab1e7",
            "7f62c295b23148fc9f020d8750886880",
            "e7d8655992524368bf1b2c40de93137a",
            "9cac8a3c2e9f494a86dec821a7e418cb",
            "8021b716667842e0a06bd1be015216b2",
            "76c10cd0af454f92aa931891b8d3cb79",
            "04c03de489b64c8ba566d3a7e4298ece",
            "f63e2eadec29413ca624a0bf8734c76d",
            "e8d3aa9f35f04fc1b9bd2eaee27e0576",
            "8e7d146382044104a6c87d0539ecfada",
            "e923d8ee57e24955a2cfb44b20e30d25",
            "21fe6ba5f8b84f9fac46837096b43bda",
            "e4719b8347194641b29875450aad265e",
            "4e4931d2628b4d888f0d682a10c659ba",
            "f01359819a264d2da07e37ec157eb3ee",
            "5a006e46b9a149f093ba9731e1cf507b",
            "fc475b282f524aaaaeded1089da40220",
            "494578d141474410a4db46eb2b8d4dc4",
            "f4b6f307c0e941c6998c7e8e02bc6b99",
            "7d7d9791d01f43c385486e36927448ca",
            "338e056d026d4ab09b07bfe5a01741f1",
            "07457628144f4c7d8890d87a80b92407"
          ]
        },
        "outputId": "97a705f7-f78d-4030-bfe3-d899f2e721ef"
      },
      "outputs": [
        {
          "output_type": "display_data",
          "data": {
            "text/plain": [
              "Downloading:   0%|          | 0.00/792k [00:00<?, ?B/s]"
            ],
            "application/vnd.jupyter.widget-view+json": {
              "version_major": 2,
              "version_minor": 0,
              "model_id": "eed8cbf2fb71494fa0266757e95ab1e7"
            }
          },
          "metadata": {}
        },
        {
          "output_type": "display_data",
          "data": {
            "text/plain": [
              "Downloading:   0%|          | 0.00/1.39M [00:00<?, ?B/s]"
            ],
            "application/vnd.jupyter.widget-view+json": {
              "version_major": 2,
              "version_minor": 0,
              "model_id": "21fe6ba5f8b84f9fac46837096b43bda"
            }
          },
          "metadata": {}
        }
      ],
      "source": [
        "#Initialising tokenizer \n",
        "modelName=\"t5-small\" \n",
        " \n",
        "tokenizer = T5TokenizerFast.from_pretrained(modelName)"
      ]
    },
    {
      "cell_type": "code",
      "execution_count": null,
      "metadata": {
        "id": "NwTqn-p-an8V"
      },
      "outputs": [],
      "source": [
        "text_token_counts =[] \n",
        "summary_token_counts = []\n",
        "#checking distribution of tokens in colums Text and Summary to get feeling about data distribution \n",
        "for _,row in train_data.iterrows():\n",
        "  text_token_count = len(tokenizer.encode(row[\"Text\"][:512])) #keeping first 512 tokenized values\n",
        "  #NOTE this lenght is not the same as lenght of Text of review\n",
        "  text_token_counts.append(text_token_count)\n",
        "\n",
        "  summary_token_count = len(tokenizer.encode(row[\"Summary\"]))\n",
        "  summary_token_counts.append(summary_token_count)\n",
        "  "
      ]
    },
    {
      "cell_type": "code",
      "execution_count": null,
      "metadata": {
        "colab": {
          "base_uri": "https://localhost:8080/",
          "height": 298
        },
        "id": "Fhpv0tlfdAZf",
        "outputId": "44c46d7c-45c0-4b1d-c5a6-d6f50457f2a5"
      },
      "outputs": [
        {
          "output_type": "execute_result",
          "data": {
            "text/plain": [
              "Text(0.5, 1.0, 'summary text token counts')"
            ]
          },
          "metadata": {},
          "execution_count": 15
        },
        {
          "output_type": "display_data",
          "data": {
            "text/plain": [
              "<Figure size 432x288 with 2 Axes>"
            ],
            "image/png": "[encoded data removed]"
          },
          "metadata": {
            "needs_background": "light"
          }
        }
      ],
      "source": [
        "#Plotting lenght of text and summaries to see how many tokens we have each\n",
        "fig, (ax1, ax2) = plt.subplots(1, 2)\n",
        "\n",
        "sns.histplot(text_token_counts, ax=ax1)\n",
        "ax1.set_title('full text token counts')\n",
        "\n",
        "sns.histplot(summary_token_counts, ax=ax2)\n",
        "ax2.set_title('summary text token counts')"
      ]
    },
    {
      "cell_type": "code",
      "execution_count": null,
      "metadata": {
        "colab": {
          "base_uri": "https://localhost:8080/"
        },
        "id": "gQnBQIRza6s2",
        "outputId": "4238d38d-9aed-4d46-fb4a-acc5b3ed72de"
      },
      "outputs": [
        {
          "output_type": "stream",
          "name": "stdout",
          "text": [
            "Looking in indexes: https://pypi.org/simple, https://us-python.pkg.dev/colab-wheels/public/simple/\n",
            "Collecting datasets==1.0.\n",
            "  Downloading datasets-1.0.0-py3-none-any.whl (1.8 MB)\n",
            "\u001b[K     |████████████████████████████████| 1.8 MB 4.3 MB/s \n",
            "\u001b[?25hRequirement already satisfied: tqdm>=4.27 in /usr/local/lib/python3.7/dist-packages (from datasets==1.0.) (4.64.0)\n",
            "Requirement already satisfied: numpy>=1.17 in /usr/local/lib/python3.7/dist-packages (from datasets==1.0.) (1.21.6)\n",
            "Collecting xxhash\n",
            "  Downloading xxhash-3.0.0-cp37-cp37m-manylinux_2_17_x86_64.manylinux2014_x86_64.whl (212 kB)\n",
            "\u001b[K     |████████████████████████████████| 212 kB 77.2 MB/s \n",
            "\u001b[?25hRequirement already satisfied: requests>=2.19.0 in /usr/local/lib/python3.7/dist-packages (from datasets==1.0.) (2.23.0)\n",
            "Requirement already satisfied: pandas in /usr/local/lib/python3.7/dist-packages (from datasets==1.0.) (1.3.5)\n",
            "Requirement already satisfied: filelock in /usr/local/lib/python3.7/dist-packages (from datasets==1.0.) (3.7.0)\n",
            "Requirement already satisfied: dill in /usr/local/lib/python3.7/dist-packages (from datasets==1.0.) (0.3.5.1)\n",
            "Requirement already satisfied: pyarrow>=0.17.1 in /usr/local/lib/python3.7/dist-packages (from datasets==1.0.) (6.0.1)\n",
            "Requirement already satisfied: certifi>=2017.4.17 in /usr/local/lib/python3.7/dist-packages (from requests>=2.19.0->datasets==1.0.) (2022.5.18.1)\n",
            "Requirement already satisfied: urllib3!=1.25.0,!=1.25.1,<1.26,>=1.21.1 in /usr/local/lib/python3.7/dist-packages (from requests>=2.19.0->datasets==1.0.) (1.24.3)\n",
            "Requirement already satisfied: idna<3,>=2.5 in /usr/local/lib/python3.7/dist-packages (from requests>=2.19.0->datasets==1.0.) (2.10)\n",
            "Requirement already satisfied: chardet<4,>=3.0.2 in /usr/local/lib/python3.7/dist-packages (from requests>=2.19.0->datasets==1.0.) (3.0.4)\n",
            "Requirement already satisfied: pytz>=2017.3 in /usr/local/lib/python3.7/dist-packages (from pandas->datasets==1.0.) (2022.1)\n",
            "Requirement already satisfied: python-dateutil>=2.7.3 in /usr/local/lib/python3.7/dist-packages (from pandas->datasets==1.0.) (2.8.2)\n",
            "Requirement already satisfied: six>=1.5 in /usr/local/lib/python3.7/dist-packages (from python-dateutil>=2.7.3->pandas->datasets==1.0.) (1.15.0)\n",
            "Installing collected packages: xxhash, datasets\n",
            "Successfully installed datasets-1.0.0 xxhash-3.0.0\n"
          ]
        }
      ],
      "source": [
        "!pip install datasets==1.0. #WE DONT NEED THIS OR?"
      ]
    },
    {
      "cell_type": "code",
      "execution_count": null,
      "metadata": {
        "colab": {
          "base_uri": "https://localhost:8080/",
          "height": 140
        },
        "id": "wge3_GG3aUtO",
        "outputId": "8a887f5a-1f5a-4b62-a27b-4f2e630bc052"
      },
      "outputs": [
        {
          "output_type": "stream",
          "name": "stderr",
          "text": [
            "PyTorch version 1.11.0+cu113 available.\n",
            "TensorFlow version 2.8.0 available.\n"
          ]
        },
        {
          "output_type": "execute_result",
          "data": {
            "text/plain": [
              "'\\ndef compute_metrics(pred):\\n    labels_ids=pred.label_ids\\n    pred_ids=pred.predictions\\n\\n    # all unnecessary tokens are removed\\n    pred_str=tokenizer.batch_decode(pred_ids, skip_special_tokens=True)\\n    labels_ids[labels_ids==-100]=tokenizer.pad_token_id\\n    label_str=tokenizer.batch_decode(labels_ids, skip_special_tokens=True)\\n    print(\\'pred_str\\'+str(pred_str))\\n    print(\\'label_str\\'+str(label_str))\\n    rouge_output=rouge.compute(predictions=pred_str, references=label_str, rouge_types=[\"rouge2\"])[\"rouge2\"].mid\\n\\n    return {\\n        \"rouge2_precision\": round(rouge_output.precision,4),\\n        \"rouge2_recall\": round(rouge_output.recall,4),\\n        \"rouge2_fmeasure\": round(rouge_output.fmeasure,4),\\n    }\\n'"
            ],
            "application/vnd.google.colaboratory.intrinsic+json": {
              "type": "string"
            }
          },
          "metadata": {},
          "execution_count": 17
        }
      ],
      "source": [
        "import datasets \n",
        "#rouge=datasets.load_metric(\"rouge\")\n",
        "\n",
        "'''\n",
        "def compute_metrics(pred):\n",
        "    labels_ids=pred.label_ids\n",
        "    pred_ids=pred.predictions\n",
        "\n",
        "    # all unnecessary tokens are removed\n",
        "    pred_str=tokenizer.batch_decode(pred_ids, skip_special_tokens=True)\n",
        "    labels_ids[labels_ids==-100]=tokenizer.pad_token_id\n",
        "    label_str=tokenizer.batch_decode(labels_ids, skip_special_tokens=True)\n",
        "    print('pred_str'+str(pred_str))\n",
        "    print('label_str'+str(label_str))\n",
        "    rouge_output=rouge.compute(predictions=pred_str, references=label_str, rouge_types=[\"rouge2\"])[\"rouge2\"].mid\n",
        "\n",
        "    return {\n",
        "        \"rouge2_precision\": round(rouge_output.precision,4),\n",
        "        \"rouge2_recall\": round(rouge_output.recall,4),\n",
        "        \"rouge2_fmeasure\": round(rouge_output.fmeasure,4),\n",
        "    }\n",
        "'''"
      ]
    },
    {
      "cell_type": "code",
      "execution_count": null,
      "metadata": {
        "id": "VleJH5gJfW_P"
      },
      "outputs": [],
      "source": [
        "#Training parameters set up\n",
        "N_EPOCHS = 3 #try more epochs, eg. 10 <-- whether it decreases, shows plateau\n",
        "\n",
        "TRAIN_BATCH_SIZE = 16 \n",
        "BATCH_SIZE=16\n",
        "\n",
        "#initializing data_module with train, test, validation dataset and tokenizer\n",
        "data_module=SummaryDataModule(train_data,test_data,val_data,tokenizer,batch_size=BATCH_SIZE)"
      ]
    },
    {
      "cell_type": "markdown",
      "metadata": {
        "id": "42NoykXogPAk"
      },
      "source": [
        "### Model\n"
      ]
    },
    {
      "cell_type": "code",
      "execution_count": null,
      "metadata": {
        "id": "2RbdCSKPgRc5"
      },
      "outputs": [],
      "source": [
        "#creating T5 model for summarization \n",
        "class SummaryModel(pl.LightningModule):\n",
        "\n",
        " def __init__(self):\n",
        "   super().__init__()\n",
        "   #initializing model\n",
        "   self.model = T5ForConditionalGeneration.from_pretrained(modelName, return_dict=True) \n",
        "   self.rouge_metric = load_metric('rouge') \n",
        "        \n",
        " #defining forward function and it output\n",
        " def forward(self,input_ids, attention_mask, decoder_attention_mask, labels=None):\n",
        "   output = self.model(\n",
        "      input_ids,\n",
        "      attention_mask=attention_mask,\n",
        "      labels=labels,\n",
        "      decoder_attention_mask=decoder_attention_mask\n",
        "    )\n",
        "   return output.loss, output.logits\n",
        "\n",
        " \n",
        " def training_step(self, batch, batch_idx):\n",
        "   input_ids = batch[ \"text_input_ids\"]\n",
        "   attention_mask = batch[\"text_attention_mask\"]\n",
        "   labels = batch[\"labels\"]\n",
        "   labels_attention_mask = batch[\"labels_attention_mask\"]\n",
        "  \n",
        "   loss, outputs = self(\n",
        "     input_ids=input_ids,\n",
        "     attention_mask=attention_mask,\n",
        "     decoder_attention_mask=labels_attention_mask,\n",
        "     labels=labels\n",
        "    )\n",
        "   self.log(\"train loss\", loss, prog_bar=True,logger=True)\n",
        "   return loss\n",
        "\n",
        "\n",
        " def validation_epoch_end(self, outputs):\n",
        "        outputs = str(outputs)\n",
        "        \n",
        "        #avg_loss = torch.stack([x[\"val_loss\"] for x in outputs]).mean()\n",
        "        #tensorboard_logs = {\"val_loss\": avg_loss}\n",
        "        \n",
        "        rouge_results = self.rouge_metric.compute() \n",
        "        rouge_dict = self.parse_score(rouge_results)\n",
        "    \n",
        "        \n",
        "        tensorboard_logs = {\"Rougue1\": rouge_results['rouge1']}\n",
        "        tensorboard_logs.update(rouge1=rouge_dict['rouge1'], rougeL=rouge_dict['rougeL'])\n",
        "        ## Clear out the lists for next epoch\n",
        "        self.target_gen= []\n",
        "        self.prediction_gen=[]\n",
        "        self.log(\"rougue1\", rouge_results['rouge1'], prog_bar=True,logger=True)\n",
        "        return {\"rouge1\" : rouge_results['rouge1'],\n",
        "                \"rougeL\" : rouge_results['rougeL']}\n",
        "\n",
        " def test_step(self, batch, batch_idx):\n",
        "   input_ids = batch[ \"text_input_ids\"]\n",
        "   attention_mask = batch[\"text_attention_mask\"]\n",
        "   labels = batch[\"labels\"]\n",
        "   labels_attention_mask = batch[\"labels_attention_mask\"]\n",
        "  \n",
        "   loss, outputs = self(\n",
        "     attention_mask=attention_mask,\n",
        "     decoder_attention_mask=labels_attention_mask,\n",
        "     labels=labels\n",
        "    )\n",
        "   self.log(\"test_loss\", loss, prog_bar=True,logger=True)\n",
        "   return loss\n",
        "\n",
        "#configurating optimizer as most used one AdamW\n",
        " def configure_optimizers(self):\n",
        "    return AdamW(self.parameters(), lr=0.0001) #early_stopping: parameter to adapt the learning rate depending on the training results"
      ]
    },
    {
      "cell_type": "code",
      "source": [
        "from datasets import load_metric\n",
        "metric = load_metric(\"rouge\")\n",
        "\n",
        "def calc_rouge_scores(candidates, references):\n",
        "    result = metric.compute(predictions=candidates, references=references, use_stemmer=True)\n",
        "    result = {key: round(value.mid.fmeasure * 100, 1) for key, value in result.items()}\n",
        "    return result"
      ],
      "metadata": {
        "id": "0CqZTEX9QtH9"
      },
      "execution_count": null,
      "outputs": []
    },
    {
      "cell_type": "code",
      "execution_count": null,
      "metadata": {
        "colab": {
          "base_uri": "https://localhost:8080/",
          "height": 351,
          "referenced_widgets": [
            "0a6f2c09a1884f018b24bbf97e60e1fc",
            "749dbb35d6e14d16a5c61915f06a67f2",
            "2ab9e2da33fe4df5a21e959318755090",
            "69315983dae84f958d49c44cdae76e41",
            "806e71a1648842e7a103792493fb6159",
            "9726ed2c11f64447b948556b1ad9918e",
            "07b5a9c2a5304df0bedda94838d52e3e",
            "59991602efd845fba2683e48755c4a29",
            "df1f147bd0c1453fa4d2bad41f66809d",
            "1884036979404588af599a83f41908e5",
            "cd8855dedbbc40bda93f8baf64d1efc3",
            "949b7feeb80d46ad9079bd1cb1e9e55d",
            "9dd1a52f037c4d258eec9e754482dd3c",
            "ed8c99d016734d29a5ecb2982692c8d6",
            "9bbde327fba54df5a63bfce40b70c690",
            "259b2d2b21424522886368a3c5ace236",
            "6d33f43d68d44334a84f2ccf4e9e6a51",
            "3531abbb5e8b454eac8089fa68338c18",
            "6a14c84875ba46ecbb3922704bb1e7a6",
            "266b55644e654dae84d84f780a3b9bec",
            "c8563a8d9cd84517b7f0ff1e260bbc1b",
            "114f81ca0e5140afa806beac5450b37e"
          ]
        },
        "id": "ZCDAe7NAehz4",
        "outputId": "05e58419-a3c8-4aeb-a48c-362ddfcf5fcc"
      },
      "outputs": [
        {
          "output_type": "display_data",
          "data": {
            "text/plain": [
              "Downloading:   0%|          | 0.00/1.20k [00:00<?, ?B/s]"
            ],
            "application/vnd.jupyter.widget-view+json": {
              "version_major": 2,
              "version_minor": 0,
              "model_id": "0a6f2c09a1884f018b24bbf97e60e1fc"
            }
          },
          "metadata": {}
        },
        {
          "output_type": "display_data",
          "data": {
            "text/plain": [
              "Downloading:   0%|          | 0.00/242M [00:00<?, ?B/s]"
            ],
            "application/vnd.jupyter.widget-view+json": {
              "version_major": 2,
              "version_minor": 0,
              "model_id": "949b7feeb80d46ad9079bd1cb1e9e55d"
            }
          },
          "metadata": {}
        },
        {
          "output_type": "error",
          "ename": "NameError",
          "evalue": "ignored",
          "traceback": [
            "\u001b[0;31m---------------------------------------------------------------------------\u001b[0m",
            "\u001b[0;31mNameError\u001b[0m                                 Traceback (most recent call last)",
            "\u001b[0;32m<ipython-input-20-c71d920e3292>\u001b[0m in \u001b[0;36m<module>\u001b[0;34m()\u001b[0m\n\u001b[0;32m----> 1\u001b[0;31m \u001b[0mmodel\u001b[0m\u001b[0;34m=\u001b[0m\u001b[0mSummaryModel\u001b[0m\u001b[0;34m(\u001b[0m\u001b[0;34m)\u001b[0m\u001b[0;34m\u001b[0m\u001b[0;34m\u001b[0m\u001b[0m\n\u001b[0m",
            "\u001b[0;32m<ipython-input-19-671050ac6881>\u001b[0m in \u001b[0;36m__init__\u001b[0;34m(self)\u001b[0m\n\u001b[1;32m      6\u001b[0m    \u001b[0;31m#initializing model\u001b[0m\u001b[0;34m\u001b[0m\u001b[0;34m\u001b[0m\u001b[0;34m\u001b[0m\u001b[0m\n\u001b[1;32m      7\u001b[0m    \u001b[0mself\u001b[0m\u001b[0;34m.\u001b[0m\u001b[0mmodel\u001b[0m \u001b[0;34m=\u001b[0m \u001b[0mT5ForConditionalGeneration\u001b[0m\u001b[0;34m.\u001b[0m\u001b[0mfrom_pretrained\u001b[0m\u001b[0;34m(\u001b[0m\u001b[0mmodelName\u001b[0m\u001b[0;34m,\u001b[0m \u001b[0mreturn_dict\u001b[0m\u001b[0;34m=\u001b[0m\u001b[0;32mTrue\u001b[0m\u001b[0;34m)\u001b[0m\u001b[0;34m\u001b[0m\u001b[0;34m\u001b[0m\u001b[0m\n\u001b[0;32m----> 8\u001b[0;31m    \u001b[0mself\u001b[0m\u001b[0;34m.\u001b[0m\u001b[0mrouge_metric\u001b[0m \u001b[0;34m=\u001b[0m \u001b[0mload_metric\u001b[0m\u001b[0;34m(\u001b[0m\u001b[0;34m'rouge'\u001b[0m\u001b[0;34m)\u001b[0m\u001b[0;34m\u001b[0m\u001b[0;34m\u001b[0m\u001b[0m\n\u001b[0m\u001b[1;32m      9\u001b[0m \u001b[0;34m\u001b[0m\u001b[0m\n\u001b[1;32m     10\u001b[0m  \u001b[0;31m#defining forward function and it output\u001b[0m\u001b[0;34m\u001b[0m\u001b[0;34m\u001b[0m\u001b[0;34m\u001b[0m\u001b[0m\n",
            "\u001b[0;31mNameError\u001b[0m: name 'load_metric' is not defined"
          ]
        }
      ],
      "source": [
        "model=SummaryModel()"
      ]
    },
    {
      "cell_type": "code",
      "execution_count": null,
      "metadata": {
        "id": "r7iVxnZhFGtS"
      },
      "outputs": [],
      "source": [
        "#loading tensorboard\n",
        "%load_ext tensorboard\n",
        "%tensorboard --logdir ./lightning_logs"
      ]
    },
    {
      "cell_type": "code",
      "execution_count": null,
      "metadata": {
        "id": "0ZBI0UgsFzOv"
      },
      "outputs": [],
      "source": [
        "#creating checkpoint_callback for the model\n",
        "#and setting which function we are monitoring\n",
        "checkpoint_callback = ModelCheckpoint(\n",
        "  dirpath=\"checkpoints\", \n",
        "  filename=\"best-checkpoint\", \n",
        "  save_top_k=1,\n",
        "  verbose=True,\n",
        "  monitor=\"rouge1\",\n",
        "  mode=\"min\"\n",
        ")\n",
        "\n",
        "#initializing logger\n",
        "logger = TensorBoardLogger(\"lightning_logs\", name=\"our-summary\")\n",
        "\n",
        "#initializing trainer\n",
        "trainer = pl.Trainer(\n",
        "  logger=logger,\n",
        "  enable_checkpointing=checkpoint_callback,\n",
        "  #compute_metrics=compute_metrics,\n",
        "  max_epochs=N_EPOCHS,\n",
        "  gpus=1,\n",
        "  enable_progress_bar=True\n",
        ")"
      ]
    },
    {
      "cell_type": "code",
      "execution_count": null,
      "metadata": {
        "id": "Nvum-FIyHoP8"
      },
      "outputs": [],
      "source": [
        "trainer.fit(model,data_module) #training model"
      ]
    },
    {
      "cell_type": "code",
      "execution_count": null,
      "metadata": {
        "id": "XVMyHETkvaif"
      },
      "outputs": [],
      "source": [
        "#saving trained model \n",
        "trained_model = SummaryModel.load_from_checkpoint(\n",
        "  trainer.checkpoint_callback.best_model_path\n",
        ")\n",
        "\n",
        "trained_model.freeze()"
      ]
    },
    {
      "cell_type": "code",
      "execution_count": null,
      "metadata": {
        "id": "0ON9cZU5Jr81"
      },
      "outputs": [],
      "source": [
        "#defining function which will generate summaries \n",
        "def summarize (text):\n",
        "  text_encoding = tokenizer(\n",
        "    text,\n",
        "    max_length=512,\n",
        "    padding=\"max_length\",\n",
        "    truncation=True,\n",
        "    return_attention_mask=True,\n",
        "    add_special_tokens=True,\n",
        "    return_tensors=\"pt\"\n",
        "  )\n",
        "  generated_ids = trained_model.model.generate(\n",
        "    input_ids=text_encoding[\"input_ids\"],\n",
        "    attention_mask=text_encoding[\"attention_mask\"],\n",
        "    max_length=200,\n",
        "    num_beams=2,\n",
        "    repetition_penalty=2.5,\n",
        "    length_penalty=1.0,\n",
        "    early_stopping=True\n",
        "  ) \n",
        "  \n",
        "  preds =[\n",
        "    tokenizer.decode (gen_id, skip_special_tokens=True, clean_up_tokenization_spaces=True)\n",
        "    for gen_id in generated_ids\n",
        "  ]\n",
        "  \n",
        "  return \"\". join(preds)\n"
      ]
    },
    {
      "cell_type": "code",
      "execution_count": null,
      "metadata": {
        "id": "ereV1TzqbFkI"
      },
      "outputs": [],
      "source": [
        "#creating new dataset with old summary and new generated summary \n",
        "test_data = test_data.reset_index()\n",
        "for i in range(0,len(test_data)):\n",
        "  test_data['Generated_summary'] = \"\"\n",
        "  test_data['Rogue'] = ''\n",
        "test_data.head()\n"
      ]
    },
    {
      "cell_type": "code",
      "execution_count": null,
      "metadata": {
        "id": "pgWlqRAvaGLp"
      },
      "outputs": [],
      "source": [
        "scorer = rouge_scorer.RougeScorer(['rouge1', 'rougeL'], use_stemmer=True)\n",
        "for i in range (10): #replace with len(test_data)\n",
        "  sample_row = test_data.iloc[i]\n",
        "  text = sample_row[\"Text\"]\n",
        "  model_summary = summarize(text)\n",
        "  test_data[\"Generated_summary\"][i] = model_summary\n",
        "  scores = scorer.score(text,model_summary)\n",
        "  test_data['Rogue'][i] = scorer.score(text,model_summary)\n"
      ]
    },
    {
      "cell_type": "code",
      "execution_count": null,
      "metadata": {
        "id": "zupoi08HjPBe"
      },
      "outputs": [],
      "source": [
        "test_data.head() #preview of data"
      ]
    },
    {
      "cell_type": "code",
      "execution_count": null,
      "metadata": {
        "id": "kuWJjnVPj5qc"
      },
      "outputs": [],
      "source": [
        "#saving generated summaries as new csv file \n",
        "test_data.to_csv(\"/content/drive/MyDrive/summary_test.csv\") "
      ]
    },
    {
      "cell_type": "code",
      "execution_count": null,
      "metadata": {
        "id": "r_dx1H1eMQXR"
      },
      "outputs": [],
      "source": [
        "#sample_row = test_data.iloc[6]\n",
        "#text = sample_row[\"Text\" ]\n",
        "#model_summary = summarize(text)"
      ]
    },
    {
      "cell_type": "code",
      "execution_count": null,
      "metadata": {
        "id": "ZqniqzbdNBmN"
      },
      "outputs": [],
      "source": [
        "#summary = sample_row[\"Summary\"]\n",
        "#print(summary)\n",
        "#print(model_summary)"
      ]
    },
    {
      "cell_type": "code",
      "execution_count": null,
      "metadata": {
        "id": "3WERhQhVU2Pc"
      },
      "outputs": [],
      "source": [
        "#Calculate and print out rouge scores\n",
        "scorer = rouge_scorer.RougeScorer(['rouge1', 'rougeL'], use_stemmer=True)\n",
        "scores = scorer.score(text,model_summary)\n",
        "scores"
      ]
    },
    {
      "cell_type": "code",
      "execution_count": null,
      "metadata": {
        "id": "d5nWgcm8EicR"
      },
      "outputs": [],
      "source": [
        "!pip install datasets==1.0"
      ]
    },
    {
      "cell_type": "code",
      "execution_count": null,
      "metadata": {
        "id": "YZ9VqVACirFc"
      },
      "outputs": [],
      "source": [
        "ref_summaries = list(test_data['Summary'])\n",
        "\n",
        "for i in range (len(test_data)): #len(test_data)\n",
        "  candidate_summaries = list(test_data['Generated_summary'])\n",
        "  print(f\"First {i+1} sentence(s): Scores {calc_rouge_scores(candidate_summaries, ref_summaries)}\")"
      ]
    },
    {
      "cell_type": "code",
      "execution_count": null,
      "metadata": {
        "id": "Qf2lKtDFGSv8"
      },
      "outputs": [],
      "source": [
        "#This is how logger is defined\n",
        "logger = logging.getLogger(__name__)\n",
        "\n",
        "class LoggingCallback(pl.Callback):\n",
        "    def on_validation_end(self, trainer, pl_module):\n",
        "        logger.info(\"***** Validation results *****\")\n",
        "        if pl_module.is_logger():\n",
        "            metrics = trainer.callback_metrics\n",
        "            # Log results\n",
        "            for key in sorted(metrics):\n",
        "                if key not in [\"log\", \"progress_bar\"]:\n",
        "                    logger.info(\"{} = {}\\n\".format(key, str(metrics[key])))\n",
        "\n",
        "    def on_test_end(self, trainer, pl_module):\n",
        "        logger.info(\"***** Test results *****\")\n",
        "\n",
        "        if pl_module.is_logger():\n",
        "            metrics = trainer.callback_metrics\n",
        "\n",
        "            # Log and save results to file\n",
        "            output_test_results_file = os.path.join(pl_module.hparams.output_dir, \"test_results.txt\")\n",
        "            with open(output_test_results_file, \"w\") as writer:\n",
        "                for key in sorted(metrics):\n",
        "                    if key not in [\"log\", \"progress_bar\"]:\n",
        "                        logger.info(\"{} = {}\\n\".format(key, str(metrics[key])))\n",
        "                        writer.write(\"{} = {}\\n\".format(key, str(metrics[key])))"
      ]
    }
  ],
  "metadata": {
    "accelerator": "GPU",
    "colab": {
      "collapsed_sections": [],
      "machine_shape": "hm",
      "name": "T5Summarization.ipynb",
      "provenance": []
    },
    "kernelspec": {
      "display_name": "Python 3",
      "name": "python3"
    },
    "language_info": {
      "name": "python"
    },
    "widgets": {
      "application/vnd.jupyter.widget-state+json": {
        "eed8cbf2fb71494fa0266757e95ab1e7": {
          "model_module": "@jupyter-widgets/controls",
          "model_name": "HBoxModel",
          "model_module_version": "1.5.0",
          "state": {
            "_dom_classes": [],
            "_model_module": "@jupyter-widgets/controls",
            "_model_module_version": "1.5.0",
            "_model_name": "HBoxModel",
            "_view_count": null,
            "_view_module": "@jupyter-widgets/controls",
            "_view_module_version": "1.5.0",
            "_view_name": "HBoxView",
            "box_style": "",
            "children": [
              "IPY_MODEL_7f62c295b23148fc9f020d8750886880",
              "IPY_MODEL_e7d8655992524368bf1b2c40de93137a",
              "IPY_MODEL_9cac8a3c2e9f494a86dec821a7e418cb"
            ],
            "layout": "IPY_MODEL_8021b716667842e0a06bd1be015216b2"
          }
        },
        "7f62c295b23148fc9f020d8750886880": {
          "model_module": "@jupyter-widgets/controls",
          "model_name": "HTMLModel",
          "model_module_version": "1.5.0",
          "state": {
            "_dom_classes": [],
            "_model_module": "@jupyter-widgets/controls",
            "_model_module_version": "1.5.0",
            "_model_name": "HTMLModel",
            "_view_count": null,
            "_view_module": "@jupyter-widgets/controls",
            "_view_module_version": "1.5.0",
            "_view_name": "HTMLView",
            "description": "",
            "description_tooltip": null,
            "layout": "IPY_MODEL_76c10cd0af454f92aa931891b8d3cb79",
            "placeholder": "​",
            "style": "IPY_MODEL_04c03de489b64c8ba566d3a7e4298ece",
            "value": "Downloading: 100%"
          }
        },
        "e7d8655992524368bf1b2c40de93137a": {
          "model_module": "@jupyter-widgets/controls",
          "model_name": "FloatProgressModel",
          "model_module_version": "1.5.0",
          "state": {
            "_dom_classes": [],
            "_model_module": "@jupyter-widgets/controls",
            "_model_module_version": "1.5.0",
            "_model_name": "FloatProgressModel",
            "_view_count": null,
            "_view_module": "@jupyter-widgets/controls",
            "_view_module_version": "1.5.0",
            "_view_name": "ProgressView",
            "bar_style": "success",
            "description": "",
            "description_tooltip": null,
            "layout": "IPY_MODEL_f63e2eadec29413ca624a0bf8734c76d",
            "max": 791656,
            "min": 0,
            "orientation": "horizontal",
            "style": "IPY_MODEL_e8d3aa9f35f04fc1b9bd2eaee27e0576",
            "value": 791656
          }
        },
        "9cac8a3c2e9f494a86dec821a7e418cb": {
          "model_module": "@jupyter-widgets/controls",
          "model_name": "HTMLModel",
          "model_module_version": "1.5.0",
          "state": {
            "_dom_classes": [],
            "_model_module": "@jupyter-widgets/controls",
            "_model_module_version": "1.5.0",
            "_model_name": "HTMLModel",
            "_view_count": null,
            "_view_module": "@jupyter-widgets/controls",
            "_view_module_version": "1.5.0",
            "_view_name": "HTMLView",
            "description": "",
            "description_tooltip": null,
            "layout": "IPY_MODEL_8e7d146382044104a6c87d0539ecfada",
            "placeholder": "​",
            "style": "IPY_MODEL_e923d8ee57e24955a2cfb44b20e30d25",
            "value": " 792k/792k [00:01&lt;00:00, 1.08MB/s]"
          }
        },
        "8021b716667842e0a06bd1be015216b2": {
          "model_module": "@jupyter-widgets/base",
          "model_name": "LayoutModel",
          "model_module_version": "1.2.0",
          "state": {
            "_model_module": "@jupyter-widgets/base",
            "_model_module_version": "1.2.0",
            "_model_name": "LayoutModel",
            "_view_count": null,
            "_view_module": "@jupyter-widgets/base",
            "_view_module_version": "1.2.0",
            "_view_name": "LayoutView",
            "align_content": null,
            "align_items": null,
            "align_self": null,
            "border": null,
            "bottom": null,
            "display": null,
            "flex": null,
            "flex_flow": null,
            "grid_area": null,
            "grid_auto_columns": null,
            "grid_auto_flow": null,
            "grid_auto_rows": null,
            "grid_column": null,
            "grid_gap": null,
            "grid_row": null,
            "grid_template_areas": null,
            "grid_template_columns": null,
            "grid_template_rows": null,
            "height": null,
            "justify_content": null,
            "justify_items": null,
            "left": null,
            "margin": null,
            "max_height": null,
            "max_width": null,
            "min_height": null,
            "min_width": null,
            "object_fit": null,
            "object_position": null,
            "order": null,
            "overflow": null,
            "overflow_x": null,
            "overflow_y": null,
            "padding": null,
            "right": null,
            "top": null,
            "visibility": null,
            "width": null
          }
        },
        "76c10cd0af454f92aa931891b8d3cb79": {
          "model_module": "@jupyter-widgets/base",
          "model_name": "LayoutModel",
          "model_module_version": "1.2.0",
          "state": {
            "_model_module": "@jupyter-widgets/base",
            "_model_module_version": "1.2.0",
            "_model_name": "LayoutModel",
            "_view_count": null,
            "_view_module": "@jupyter-widgets/base",
            "_view_module_version": "1.2.0",
            "_view_name": "LayoutView",
            "align_content": null,
            "align_items": null,
            "align_self": null,
            "border": null,
            "bottom": null,
            "display": null,
            "flex": null,
            "flex_flow": null,
            "grid_area": null,
            "grid_auto_columns": null,
            "grid_auto_flow": null,
            "grid_auto_rows": null,
            "grid_column": null,
            "grid_gap": null,
            "grid_row": null,
            "grid_template_areas": null,
            "grid_template_columns": null,
            "grid_template_rows": null,
            "height": null,
            "justify_content": null,
            "justify_items": null,
            "left": null,
            "margin": null,
            "max_height": null,
            "max_width": null,
            "min_height": null,
            "min_width": null,
            "object_fit": null,
            "object_position": null,
            "order": null,
            "overflow": null,
            "overflow_x": null,
            "overflow_y": null,
            "padding": null,
            "right": null,
            "top": null,
            "visibility": null,
            "width": null
          }
        },
        "04c03de489b64c8ba566d3a7e4298ece": {
          "model_module": "@jupyter-widgets/controls",
          "model_name": "DescriptionStyleModel",
          "model_module_version": "1.5.0",
          "state": {
            "_model_module": "@jupyter-widgets/controls",
            "_model_module_version": "1.5.0",
            "_model_name": "DescriptionStyleModel",
            "_view_count": null,
            "_view_module": "@jupyter-widgets/base",
            "_view_module_version": "1.2.0",
            "_view_name": "StyleView",
            "description_width": ""
          }
        },
        "f63e2eadec29413ca624a0bf8734c76d": {
          "model_module": "@jupyter-widgets/base",
          "model_name": "LayoutModel",
          "model_module_version": "1.2.0",
          "state": {
            "_model_module": "@jupyter-widgets/base",
            "_model_module_version": "1.2.0",
            "_model_name": "LayoutModel",
            "_view_count": null,
            "_view_module": "@jupyter-widgets/base",
            "_view_module_version": "1.2.0",
            "_view_name": "LayoutView",
            "align_content": null,
            "align_items": null,
            "align_self": null,
            "border": null,
            "bottom": null,
            "display": null,
            "flex": null,
            "flex_flow": null,
            "grid_area": null,
            "grid_auto_columns": null,
            "grid_auto_flow": null,
            "grid_auto_rows": null,
            "grid_column": null,
            "grid_gap": null,
            "grid_row": null,
            "grid_template_areas": null,
            "grid_template_columns": null,
            "grid_template_rows": null,
            "height": null,
            "justify_content": null,
            "justify_items": null,
            "left": null,
            "margin": null,
            "max_height": null,
            "max_width": null,
            "min_height": null,
            "min_width": null,
            "object_fit": null,
            "object_position": null,
            "order": null,
            "overflow": null,
            "overflow_x": null,
            "overflow_y": null,
            "padding": null,
            "right": null,
            "top": null,
            "visibility": null,
            "width": null
          }
        },
        "e8d3aa9f35f04fc1b9bd2eaee27e0576": {
          "model_module": "@jupyter-widgets/controls",
          "model_name": "ProgressStyleModel",
          "model_module_version": "1.5.0",
          "state": {
            "_model_module": "@jupyter-widgets/controls",
            "_model_module_version": "1.5.0",
            "_model_name": "ProgressStyleModel",
            "_view_count": null,
            "_view_module": "@jupyter-widgets/base",
            "_view_module_version": "1.2.0",
            "_view_name": "StyleView",
            "bar_color": null,
            "description_width": ""
          }
        },
        "8e7d146382044104a6c87d0539ecfada": {
          "model_module": "@jupyter-widgets/base",
          "model_name": "LayoutModel",
          "model_module_version": "1.2.0",
          "state": {
            "_model_module": "@jupyter-widgets/base",
            "_model_module_version": "1.2.0",
            "_model_name": "LayoutModel",
            "_view_count": null,
            "_view_module": "@jupyter-widgets/base",
            "_view_module_version": "1.2.0",
            "_view_name": "LayoutView",
            "align_content": null,
            "align_items": null,
            "align_self": null,
            "border": null,
            "bottom": null,
            "display": null,
            "flex": null,
            "flex_flow": null,
            "grid_area": null,
            "grid_auto_columns": null,
            "grid_auto_flow": null,
            "grid_auto_rows": null,
            "grid_column": null,
            "grid_gap": null,
            "grid_row": null,
            "grid_template_areas": null,
            "grid_template_columns": null,
            "grid_template_rows": null,
            "height": null,
            "justify_content": null,
            "justify_items": null,
            "left": null,
            "margin": null,
            "max_height": null,
            "max_width": null,
            "min_height": null,
            "min_width": null,
            "object_fit": null,
            "object_position": null,
            "order": null,
            "overflow": null,
            "overflow_x": null,
            "overflow_y": null,
            "padding": null,
            "right": null,
            "top": null,
            "visibility": null,
            "width": null
          }
        },
        "e923d8ee57e24955a2cfb44b20e30d25": {
          "model_module": "@jupyter-widgets/controls",
          "model_name": "DescriptionStyleModel",
          "model_module_version": "1.5.0",
          "state": {
            "_model_module": "@jupyter-widgets/controls",
            "_model_module_version": "1.5.0",
            "_model_name": "DescriptionStyleModel",
            "_view_count": null,
            "_view_module": "@jupyter-widgets/base",
            "_view_module_version": "1.2.0",
            "_view_name": "StyleView",
            "description_width": ""
          }
        },
        "21fe6ba5f8b84f9fac46837096b43bda": {
          "model_module": "@jupyter-widgets/controls",
          "model_name": "HBoxModel",
          "model_module_version": "1.5.0",
          "state": {
            "_dom_classes": [],
            "_model_module": "@jupyter-widgets/controls",
            "_model_module_version": "1.5.0",
            "_model_name": "HBoxModel",
            "_view_count": null,
            "_view_module": "@jupyter-widgets/controls",
            "_view_module_version": "1.5.0",
            "_view_name": "HBoxView",
            "box_style": "",
            "children": [
              "IPY_MODEL_e4719b8347194641b29875450aad265e",
              "IPY_MODEL_4e4931d2628b4d888f0d682a10c659ba",
              "IPY_MODEL_f01359819a264d2da07e37ec157eb3ee"
            ],
            "layout": "IPY_MODEL_5a006e46b9a149f093ba9731e1cf507b"
          }
        },
        "e4719b8347194641b29875450aad265e": {
          "model_module": "@jupyter-widgets/controls",
          "model_name": "HTMLModel",
          "model_module_version": "1.5.0",
          "state": {
            "_dom_classes": [],
            "_model_module": "@jupyter-widgets/controls",
            "_model_module_version": "1.5.0",
            "_model_name": "HTMLModel",
            "_view_count": null,
            "_view_module": "@jupyter-widgets/controls",
            "_view_module_version": "1.5.0",
            "_view_name": "HTMLView",
            "description": "",
            "description_tooltip": null,
            "layout": "IPY_MODEL_fc475b282f524aaaaeded1089da40220",
            "placeholder": "​",
            "style": "IPY_MODEL_494578d141474410a4db46eb2b8d4dc4",
            "value": "Downloading: 100%"
          }
        },
        "4e4931d2628b4d888f0d682a10c659ba": {
          "model_module": "@jupyter-widgets/controls",
          "model_name": "FloatProgressModel",
          "model_module_version": "1.5.0",
          "state": {
            "_dom_classes": [],
            "_model_module": "@jupyter-widgets/controls",
            "_model_module_version": "1.5.0",
            "_model_name": "FloatProgressModel",
            "_view_count": null,
            "_view_module": "@jupyter-widgets/controls",
            "_view_module_version": "1.5.0",
            "_view_name": "ProgressView",
            "bar_style": "success",
            "description": "",
            "description_tooltip": null,
            "layout": "IPY_MODEL_f4b6f307c0e941c6998c7e8e02bc6b99",
            "max": 1389353,
            "min": 0,
            "orientation": "horizontal",
            "style": "IPY_MODEL_7d7d9791d01f43c385486e36927448ca",
            "value": 1389353
          }
        },
        "f01359819a264d2da07e37ec157eb3ee": {
          "model_module": "@jupyter-widgets/controls",
          "model_name": "HTMLModel",
          "model_module_version": "1.5.0",
          "state": {
            "_dom_classes": [],
            "_model_module": "@jupyter-widgets/controls",
            "_model_module_version": "1.5.0",
            "_model_name": "HTMLModel",
            "_view_count": null,
            "_view_module": "@jupyter-widgets/controls",
            "_view_module_version": "1.5.0",
            "_view_name": "HTMLView",
            "description": "",
            "description_tooltip": null,
            "layout": "IPY_MODEL_338e056d026d4ab09b07bfe5a01741f1",
            "placeholder": "​",
            "style": "IPY_MODEL_07457628144f4c7d8890d87a80b92407",
            "value": " 1.39M/1.39M [00:01&lt;00:00, 1.19MB/s]"
          }
        },
        "5a006e46b9a149f093ba9731e1cf507b": {
          "model_module": "@jupyter-widgets/base",
          "model_name": "LayoutModel",
          "model_module_version": "1.2.0",
          "state": {
            "_model_module": "@jupyter-widgets/base",
            "_model_module_version": "1.2.0",
            "_model_name": "LayoutModel",
            "_view_count": null,
            "_view_module": "@jupyter-widgets/base",
            "_view_module_version": "1.2.0",
            "_view_name": "LayoutView",
            "align_content": null,
            "align_items": null,
            "align_self": null,
            "border": null,
            "bottom": null,
            "display": null,
            "flex": null,
            "flex_flow": null,
            "grid_area": null,
            "grid_auto_columns": null,
            "grid_auto_flow": null,
            "grid_auto_rows": null,
            "grid_column": null,
            "grid_gap": null,
            "grid_row": null,
            "grid_template_areas": null,
            "grid_template_columns": null,
            "grid_template_rows": null,
            "height": null,
            "justify_content": null,
            "justify_items": null,
            "left": null,
            "margin": null,
            "max_height": null,
            "max_width": null,
            "min_height": null,
            "min_width": null,
            "object_fit": null,
            "object_position": null,
            "order": null,
            "overflow": null,
            "overflow_x": null,
            "overflow_y": null,
            "padding": null,
            "right": null,
            "top": null,
            "visibility": null,
            "width": null
          }
        },
        "fc475b282f524aaaaeded1089da40220": {
          "model_module": "@jupyter-widgets/base",
          "model_name": "LayoutModel",
          "model_module_version": "1.2.0",
          "state": {
            "_model_module": "@jupyter-widgets/base",
            "_model_module_version": "1.2.0",
            "_model_name": "LayoutModel",
            "_view_count": null,
            "_view_module": "@jupyter-widgets/base",
            "_view_module_version": "1.2.0",
            "_view_name": "LayoutView",
            "align_content": null,
            "align_items": null,
            "align_self": null,
            "border": null,
            "bottom": null,
            "display": null,
            "flex": null,
            "flex_flow": null,
            "grid_area": null,
            "grid_auto_columns": null,
            "grid_auto_flow": null,
            "grid_auto_rows": null,
            "grid_column": null,
            "grid_gap": null,
            "grid_row": null,
            "grid_template_areas": null,
            "grid_template_columns": null,
            "grid_template_rows": null,
            "height": null,
            "justify_content": null,
            "justify_items": null,
            "left": null,
            "margin": null,
            "max_height": null,
            "max_width": null,
            "min_height": null,
            "min_width": null,
            "object_fit": null,
            "object_position": null,
            "order": null,
            "overflow": null,
            "overflow_x": null,
            "overflow_y": null,
            "padding": null,
            "right": null,
            "top": null,
            "visibility": null,
            "width": null
          }
        },
        "494578d141474410a4db46eb2b8d4dc4": {
          "model_module": "@jupyter-widgets/controls",
          "model_name": "DescriptionStyleModel",
          "model_module_version": "1.5.0",
          "state": {
            "_model_module": "@jupyter-widgets/controls",
            "_model_module_version": "1.5.0",
            "_model_name": "DescriptionStyleModel",
            "_view_count": null,
            "_view_module": "@jupyter-widgets/base",
            "_view_module_version": "1.2.0",
            "_view_name": "StyleView",
            "description_width": ""
          }
        },
        "f4b6f307c0e941c6998c7e8e02bc6b99": {
          "model_module": "@jupyter-widgets/base",
          "model_name": "LayoutModel",
          "model_module_version": "1.2.0",
          "state": {
            "_model_module": "@jupyter-widgets/base",
            "_model_module_version": "1.2.0",
            "_model_name": "LayoutModel",
            "_view_count": null,
            "_view_module": "@jupyter-widgets/base",
            "_view_module_version": "1.2.0",
            "_view_name": "LayoutView",
            "align_content": null,
            "align_items": null,
            "align_self": null,
            "border": null,
            "bottom": null,
            "display": null,
            "flex": null,
            "flex_flow": null,
            "grid_area": null,
            "grid_auto_columns": null,
            "grid_auto_flow": null,
            "grid_auto_rows": null,
            "grid_column": null,
            "grid_gap": null,
            "grid_row": null,
            "grid_template_areas": null,
            "grid_template_columns": null,
            "grid_template_rows": null,
            "height": null,
            "justify_content": null,
            "justify_items": null,
            "left": null,
            "margin": null,
            "max_height": null,
            "max_width": null,
            "min_height": null,
            "min_width": null,
            "object_fit": null,
            "object_position": null,
            "order": null,
            "overflow": null,
            "overflow_x": null,
            "overflow_y": null,
            "padding": null,
            "right": null,
            "top": null,
            "visibility": null,
            "width": null
          }
        },
        "7d7d9791d01f43c385486e36927448ca": {
          "model_module": "@jupyter-widgets/controls",
          "model_name": "ProgressStyleModel",
          "model_module_version": "1.5.0",
          "state": {
            "_model_module": "@jupyter-widgets/controls",
            "_model_module_version": "1.5.0",
            "_model_name": "ProgressStyleModel",
            "_view_count": null,
            "_view_module": "@jupyter-widgets/base",
            "_view_module_version": "1.2.0",
            "_view_name": "StyleView",
            "bar_color": null,
            "description_width": ""
          }
        },
        "338e056d026d4ab09b07bfe5a01741f1": {
          "model_module": "@jupyter-widgets/base",
          "model_name": "LayoutModel",
          "model_module_version": "1.2.0",
          "state": {
            "_model_module": "@jupyter-widgets/base",
            "_model_module_version": "1.2.0",
            "_model_name": "LayoutModel",
            "_view_count": null,
            "_view_module": "@jupyter-widgets/base",
            "_view_module_version": "1.2.0",
            "_view_name": "LayoutView",
            "align_content": null,
            "align_items": null,
            "align_self": null,
            "border": null,
            "bottom": null,
            "display": null,
            "flex": null,
            "flex_flow": null,
            "grid_area": null,
            "grid_auto_columns": null,
            "grid_auto_flow": null,
            "grid_auto_rows": null,
            "grid_column": null,
            "grid_gap": null,
            "grid_row": null,
            "grid_template_areas": null,
            "grid_template_columns": null,
            "grid_template_rows": null,
            "height": null,
            "justify_content": null,
            "justify_items": null,
            "left": null,
            "margin": null,
            "max_height": null,
            "max_width": null,
            "min_height": null,
            "min_width": null,
            "object_fit": null,
            "object_position": null,
            "order": null,
            "overflow": null,
            "overflow_x": null,
            "overflow_y": null,
            "padding": null,
            "right": null,
            "top": null,
            "visibility": null,
            "width": null
          }
        },
        "07457628144f4c7d8890d87a80b92407": {
          "model_module": "@jupyter-widgets/controls",
          "model_name": "DescriptionStyleModel",
          "model_module_version": "1.5.0",
          "state": {
            "_model_module": "@jupyter-widgets/controls",
            "_model_module_version": "1.5.0",
            "_model_name": "DescriptionStyleModel",
            "_view_count": null,
            "_view_module": "@jupyter-widgets/base",
            "_view_module_version": "1.2.0",
            "_view_name": "StyleView",
            "description_width": ""
          }
        },
        "0a6f2c09a1884f018b24bbf97e60e1fc": {
          "model_module": "@jupyter-widgets/controls",
          "model_name": "HBoxModel",
          "model_module_version": "1.5.0",
          "state": {
            "_dom_classes": [],
            "_model_module": "@jupyter-widgets/controls",
            "_model_module_version": "1.5.0",
            "_model_name": "HBoxModel",
            "_view_count": null,
            "_view_module": "@jupyter-widgets/controls",
            "_view_module_version": "1.5.0",
            "_view_name": "HBoxView",
            "box_style": "",
            "children": [
              "IPY_MODEL_749dbb35d6e14d16a5c61915f06a67f2",
              "IPY_MODEL_2ab9e2da33fe4df5a21e959318755090",
              "IPY_MODEL_69315983dae84f958d49c44cdae76e41"
            ],
            "layout": "IPY_MODEL_806e71a1648842e7a103792493fb6159"
          }
        },
        "749dbb35d6e14d16a5c61915f06a67f2": {
          "model_module": "@jupyter-widgets/controls",
          "model_name": "HTMLModel",
          "model_module_version": "1.5.0",
          "state": {
            "_dom_classes": [],
            "_model_module": "@jupyter-widgets/controls",
            "_model_module_version": "1.5.0",
            "_model_name": "HTMLModel",
            "_view_count": null,
            "_view_module": "@jupyter-widgets/controls",
            "_view_module_version": "1.5.0",
            "_view_name": "HTMLView",
            "description": "",
            "description_tooltip": null,
            "layout": "IPY_MODEL_9726ed2c11f64447b948556b1ad9918e",
            "placeholder": "​",
            "style": "IPY_MODEL_07b5a9c2a5304df0bedda94838d52e3e",
            "value": "Downloading: 100%"
          }
        },
        "2ab9e2da33fe4df5a21e959318755090": {
          "model_module": "@jupyter-widgets/controls",
          "model_name": "FloatProgressModel",
          "model_module_version": "1.5.0",
          "state": {
            "_dom_classes": [],
            "_model_module": "@jupyter-widgets/controls",
            "_model_module_version": "1.5.0",
            "_model_name": "FloatProgressModel",
            "_view_count": null,
            "_view_module": "@jupyter-widgets/controls",
            "_view_module_version": "1.5.0",
            "_view_name": "ProgressView",
            "bar_style": "success",
            "description": "",
            "description_tooltip": null,
            "layout": "IPY_MODEL_59991602efd845fba2683e48755c4a29",
            "max": 1197,
            "min": 0,
            "orientation": "horizontal",
            "style": "IPY_MODEL_df1f147bd0c1453fa4d2bad41f66809d",
            "value": 1197
          }
        },
        "69315983dae84f958d49c44cdae76e41": {
          "model_module": "@jupyter-widgets/controls",
          "model_name": "HTMLModel",
          "model_module_version": "1.5.0",
          "state": {
            "_dom_classes": [],
            "_model_module": "@jupyter-widgets/controls",
            "_model_module_version": "1.5.0",
            "_model_name": "HTMLModel",
            "_view_count": null,
            "_view_module": "@jupyter-widgets/controls",
            "_view_module_version": "1.5.0",
            "_view_name": "HTMLView",
            "description": "",
            "description_tooltip": null,
            "layout": "IPY_MODEL_1884036979404588af599a83f41908e5",
            "placeholder": "​",
            "style": "IPY_MODEL_cd8855dedbbc40bda93f8baf64d1efc3",
            "value": " 1.20k/1.20k [00:00&lt;00:00, 48.8kB/s]"
          }
        },
        "806e71a1648842e7a103792493fb6159": {
          "model_module": "@jupyter-widgets/base",
          "model_name": "LayoutModel",
          "model_module_version": "1.2.0",
          "state": {
            "_model_module": "@jupyter-widgets/base",
            "_model_module_version": "1.2.0",
            "_model_name": "LayoutModel",
            "_view_count": null,
            "_view_module": "@jupyter-widgets/base",
            "_view_module_version": "1.2.0",
            "_view_name": "LayoutView",
            "align_content": null,
            "align_items": null,
            "align_self": null,
            "border": null,
            "bottom": null,
            "display": null,
            "flex": null,
            "flex_flow": null,
            "grid_area": null,
            "grid_auto_columns": null,
            "grid_auto_flow": null,
            "grid_auto_rows": null,
            "grid_column": null,
            "grid_gap": null,
            "grid_row": null,
            "grid_template_areas": null,
            "grid_template_columns": null,
            "grid_template_rows": null,
            "height": null,
            "justify_content": null,
            "justify_items": null,
            "left": null,
            "margin": null,
            "max_height": null,
            "max_width": null,
            "min_height": null,
            "min_width": null,
            "object_fit": null,
            "object_position": null,
            "order": null,
            "overflow": null,
            "overflow_x": null,
            "overflow_y": null,
            "padding": null,
            "right": null,
            "top": null,
            "visibility": null,
            "width": null
          }
        },
        "9726ed2c11f64447b948556b1ad9918e": {
          "model_module": "@jupyter-widgets/base",
          "model_name": "LayoutModel",
          "model_module_version": "1.2.0",
          "state": {
            "_model_module": "@jupyter-widgets/base",
            "_model_module_version": "1.2.0",
            "_model_name": "LayoutModel",
            "_view_count": null,
            "_view_module": "@jupyter-widgets/base",
            "_view_module_version": "1.2.0",
            "_view_name": "LayoutView",
            "align_content": null,
            "align_items": null,
            "align_self": null,
            "border": null,
            "bottom": null,
            "display": null,
            "flex": null,
            "flex_flow": null,
            "grid_area": null,
            "grid_auto_columns": null,
            "grid_auto_flow": null,
            "grid_auto_rows": null,
            "grid_column": null,
            "grid_gap": null,
            "grid_row": null,
            "grid_template_areas": null,
            "grid_template_columns": null,
            "grid_template_rows": null,
            "height": null,
            "justify_content": null,
            "justify_items": null,
            "left": null,
            "margin": null,
            "max_height": null,
            "max_width": null,
            "min_height": null,
            "min_width": null,
            "object_fit": null,
            "object_position": null,
            "order": null,
            "overflow": null,
            "overflow_x": null,
            "overflow_y": null,
            "padding": null,
            "right": null,
            "top": null,
            "visibility": null,
            "width": null
          }
        },
        "07b5a9c2a5304df0bedda94838d52e3e": {
          "model_module": "@jupyter-widgets/controls",
          "model_name": "DescriptionStyleModel",
          "model_module_version": "1.5.0",
          "state": {
            "_model_module": "@jupyter-widgets/controls",
            "_model_module_version": "1.5.0",
            "_model_name": "DescriptionStyleModel",
            "_view_count": null,
            "_view_module": "@jupyter-widgets/base",
            "_view_module_version": "1.2.0",
            "_view_name": "StyleView",
            "description_width": ""
          }
        },
        "59991602efd845fba2683e48755c4a29": {
          "model_module": "@jupyter-widgets/base",
          "model_name": "LayoutModel",
          "model_module_version": "1.2.0",
          "state": {
            "_model_module": "@jupyter-widgets/base",
            "_model_module_version": "1.2.0",
            "_model_name": "LayoutModel",
            "_view_count": null,
            "_view_module": "@jupyter-widgets/base",
            "_view_module_version": "1.2.0",
            "_view_name": "LayoutView",
            "align_content": null,
            "align_items": null,
            "align_self": null,
            "border": null,
            "bottom": null,
            "display": null,
            "flex": null,
            "flex_flow": null,
            "grid_area": null,
            "grid_auto_columns": null,
            "grid_auto_flow": null,
            "grid_auto_rows": null,
            "grid_column": null,
            "grid_gap": null,
            "grid_row": null,
            "grid_template_areas": null,
            "grid_template_columns": null,
            "grid_template_rows": null,
            "height": null,
            "justify_content": null,
            "justify_items": null,
            "left": null,
            "margin": null,
            "max_height": null,
            "max_width": null,
            "min_height": null,
            "min_width": null,
            "object_fit": null,
            "object_position": null,
            "order": null,
            "overflow": null,
            "overflow_x": null,
            "overflow_y": null,
            "padding": null,
            "right": null,
            "top": null,
            "visibility": null,
            "width": null
          }
        },
        "df1f147bd0c1453fa4d2bad41f66809d": {
          "model_module": "@jupyter-widgets/controls",
          "model_name": "ProgressStyleModel",
          "model_module_version": "1.5.0",
          "state": {
            "_model_module": "@jupyter-widgets/controls",
            "_model_module_version": "1.5.0",
            "_model_name": "ProgressStyleModel",
            "_view_count": null,
            "_view_module": "@jupyter-widgets/base",
            "_view_module_version": "1.2.0",
            "_view_name": "StyleView",
            "bar_color": null,
            "description_width": ""
          }
        },
        "1884036979404588af599a83f41908e5": {
          "model_module": "@jupyter-widgets/base",
          "model_name": "LayoutModel",
          "model_module_version": "1.2.0",
          "state": {
            "_model_module": "@jupyter-widgets/base",
            "_model_module_version": "1.2.0",
            "_model_name": "LayoutModel",
            "_view_count": null,
            "_view_module": "@jupyter-widgets/base",
            "_view_module_version": "1.2.0",
            "_view_name": "LayoutView",
            "align_content": null,
            "align_items": null,
            "align_self": null,
            "border": null,
            "bottom": null,
            "display": null,
            "flex": null,
            "flex_flow": null,
            "grid_area": null,
            "grid_auto_columns": null,
            "grid_auto_flow": null,
            "grid_auto_rows": null,
            "grid_column": null,
            "grid_gap": null,
            "grid_row": null,
            "grid_template_areas": null,
            "grid_template_columns": null,
            "grid_template_rows": null,
            "height": null,
            "justify_content": null,
            "justify_items": null,
            "left": null,
            "margin": null,
            "max_height": null,
            "max_width": null,
            "min_height": null,
            "min_width": null,
            "object_fit": null,
            "object_position": null,
            "order": null,
            "overflow": null,
            "overflow_x": null,
            "overflow_y": null,
            "padding": null,
            "right": null,
            "top": null,
            "visibility": null,
            "width": null
          }
        },
        "cd8855dedbbc40bda93f8baf64d1efc3": {
          "model_module": "@jupyter-widgets/controls",
          "model_name": "DescriptionStyleModel",
          "model_module_version": "1.5.0",
          "state": {
            "_model_module": "@jupyter-widgets/controls",
            "_model_module_version": "1.5.0",
            "_model_name": "DescriptionStyleModel",
            "_view_count": null,
            "_view_module": "@jupyter-widgets/base",
            "_view_module_version": "1.2.0",
            "_view_name": "StyleView",
            "description_width": ""
          }
        },
        "949b7feeb80d46ad9079bd1cb1e9e55d": {
          "model_module": "@jupyter-widgets/controls",
          "model_name": "HBoxModel",
          "model_module_version": "1.5.0",
          "state": {
            "_dom_classes": [],
            "_model_module": "@jupyter-widgets/controls",
            "_model_module_version": "1.5.0",
            "_model_name": "HBoxModel",
            "_view_count": null,
            "_view_module": "@jupyter-widgets/controls",
            "_view_module_version": "1.5.0",
            "_view_name": "HBoxView",
            "box_style": "",
            "children": [
              "IPY_MODEL_9dd1a52f037c4d258eec9e754482dd3c",
              "IPY_MODEL_ed8c99d016734d29a5ecb2982692c8d6",
              "IPY_MODEL_9bbde327fba54df5a63bfce40b70c690"
            ],
            "layout": "IPY_MODEL_259b2d2b21424522886368a3c5ace236"
          }
        },
        "9dd1a52f037c4d258eec9e754482dd3c": {
          "model_module": "@jupyter-widgets/controls",
          "model_name": "HTMLModel",
          "model_module_version": "1.5.0",
          "state": {
            "_dom_classes": [],
            "_model_module": "@jupyter-widgets/controls",
            "_model_module_version": "1.5.0",
            "_model_name": "HTMLModel",
            "_view_count": null,
            "_view_module": "@jupyter-widgets/controls",
            "_view_module_version": "1.5.0",
            "_view_name": "HTMLView",
            "description": "",
            "description_tooltip": null,
            "layout": "IPY_MODEL_6d33f43d68d44334a84f2ccf4e9e6a51",
            "placeholder": "​",
            "style": "IPY_MODEL_3531abbb5e8b454eac8089fa68338c18",
            "value": "Downloading: 100%"
          }
        },
        "ed8c99d016734d29a5ecb2982692c8d6": {
          "model_module": "@jupyter-widgets/controls",
          "model_name": "FloatProgressModel",
          "model_module_version": "1.5.0",
          "state": {
            "_dom_classes": [],
            "_model_module": "@jupyter-widgets/controls",
            "_model_module_version": "1.5.0",
            "_model_name": "FloatProgressModel",
            "_view_count": null,
            "_view_module": "@jupyter-widgets/controls",
            "_view_module_version": "1.5.0",
            "_view_name": "ProgressView",
            "bar_style": "success",
            "description": "",
            "description_tooltip": null,
            "layout": "IPY_MODEL_6a14c84875ba46ecbb3922704bb1e7a6",
            "max": 242065649,
            "min": 0,
            "orientation": "horizontal",
            "style": "IPY_MODEL_266b55644e654dae84d84f780a3b9bec",
            "value": 242065649
          }
        },
        "9bbde327fba54df5a63bfce40b70c690": {
          "model_module": "@jupyter-widgets/controls",
          "model_name": "HTMLModel",
          "model_module_version": "1.5.0",
          "state": {
            "_dom_classes": [],
            "_model_module": "@jupyter-widgets/controls",
            "_model_module_version": "1.5.0",
            "_model_name": "HTMLModel",
            "_view_count": null,
            "_view_module": "@jupyter-widgets/controls",
            "_view_module_version": "1.5.0",
            "_view_name": "HTMLView",
            "description": "",
            "description_tooltip": null,
            "layout": "IPY_MODEL_c8563a8d9cd84517b7f0ff1e260bbc1b",
            "placeholder": "​",
            "style": "IPY_MODEL_114f81ca0e5140afa806beac5450b37e",
            "value": " 242M/242M [00:04&lt;00:00, 54.5MB/s]"
          }
        },
        "259b2d2b21424522886368a3c5ace236": {
          "model_module": "@jupyter-widgets/base",
          "model_name": "LayoutModel",
          "model_module_version": "1.2.0",
          "state": {
            "_model_module": "@jupyter-widgets/base",
            "_model_module_version": "1.2.0",
            "_model_name": "LayoutModel",
            "_view_count": null,
            "_view_module": "@jupyter-widgets/base",
            "_view_module_version": "1.2.0",
            "_view_name": "LayoutView",
            "align_content": null,
            "align_items": null,
            "align_self": null,
            "border": null,
            "bottom": null,
            "display": null,
            "flex": null,
            "flex_flow": null,
            "grid_area": null,
            "grid_auto_columns": null,
            "grid_auto_flow": null,
            "grid_auto_rows": null,
            "grid_column": null,
            "grid_gap": null,
            "grid_row": null,
            "grid_template_areas": null,
            "grid_template_columns": null,
            "grid_template_rows": null,
            "height": null,
            "justify_content": null,
            "justify_items": null,
            "left": null,
            "margin": null,
            "max_height": null,
            "max_width": null,
            "min_height": null,
            "min_width": null,
            "object_fit": null,
            "object_position": null,
            "order": null,
            "overflow": null,
            "overflow_x": null,
            "overflow_y": null,
            "padding": null,
            "right": null,
            "top": null,
            "visibility": null,
            "width": null
          }
        },
        "6d33f43d68d44334a84f2ccf4e9e6a51": {
          "model_module": "@jupyter-widgets/base",
          "model_name": "LayoutModel",
          "model_module_version": "1.2.0",
          "state": {
            "_model_module": "@jupyter-widgets/base",
            "_model_module_version": "1.2.0",
            "_model_name": "LayoutModel",
            "_view_count": null,
            "_view_module": "@jupyter-widgets/base",
            "_view_module_version": "1.2.0",
            "_view_name": "LayoutView",
            "align_content": null,
            "align_items": null,
            "align_self": null,
            "border": null,
            "bottom": null,
            "display": null,
            "flex": null,
            "flex_flow": null,
            "grid_area": null,
            "grid_auto_columns": null,
            "grid_auto_flow": null,
            "grid_auto_rows": null,
            "grid_column": null,
            "grid_gap": null,
            "grid_row": null,
            "grid_template_areas": null,
            "grid_template_columns": null,
            "grid_template_rows": null,
            "height": null,
            "justify_content": null,
            "justify_items": null,
            "left": null,
            "margin": null,
            "max_height": null,
            "max_width": null,
            "min_height": null,
            "min_width": null,
            "object_fit": null,
            "object_position": null,
            "order": null,
            "overflow": null,
            "overflow_x": null,
            "overflow_y": null,
            "padding": null,
            "right": null,
            "top": null,
            "visibility": null,
            "width": null
          }
        },
        "3531abbb5e8b454eac8089fa68338c18": {
          "model_module": "@jupyter-widgets/controls",
          "model_name": "DescriptionStyleModel",
          "model_module_version": "1.5.0",
          "state": {
            "_model_module": "@jupyter-widgets/controls",
            "_model_module_version": "1.5.0",
            "_model_name": "DescriptionStyleModel",
            "_view_count": null,
            "_view_module": "@jupyter-widgets/base",
            "_view_module_version": "1.2.0",
            "_view_name": "StyleView",
            "description_width": ""
          }
        },
        "6a14c84875ba46ecbb3922704bb1e7a6": {
          "model_module": "@jupyter-widgets/base",
          "model_name": "LayoutModel",
          "model_module_version": "1.2.0",
          "state": {
            "_model_module": "@jupyter-widgets/base",
            "_model_module_version": "1.2.0",
            "_model_name": "LayoutModel",
            "_view_count": null,
            "_view_module": "@jupyter-widgets/base",
            "_view_module_version": "1.2.0",
            "_view_name": "LayoutView",
            "align_content": null,
            "align_items": null,
            "align_self": null,
            "border": null,
            "bottom": null,
            "display": null,
            "flex": null,
            "flex_flow": null,
            "grid_area": null,
            "grid_auto_columns": null,
            "grid_auto_flow": null,
            "grid_auto_rows": null,
            "grid_column": null,
            "grid_gap": null,
            "grid_row": null,
            "grid_template_areas": null,
            "grid_template_columns": null,
            "grid_template_rows": null,
            "height": null,
            "justify_content": null,
            "justify_items": null,
            "left": null,
            "margin": null,
            "max_height": null,
            "max_width": null,
            "min_height": null,
            "min_width": null,
            "object_fit": null,
            "object_position": null,
            "order": null,
            "overflow": null,
            "overflow_x": null,
            "overflow_y": null,
            "padding": null,
            "right": null,
            "top": null,
            "visibility": null,
            "width": null
          }
        },
        "266b55644e654dae84d84f780a3b9bec": {
          "model_module": "@jupyter-widgets/controls",
          "model_name": "ProgressStyleModel",
          "model_module_version": "1.5.0",
          "state": {
            "_model_module": "@jupyter-widgets/controls",
            "_model_module_version": "1.5.0",
            "_model_name": "ProgressStyleModel",
            "_view_count": null,
            "_view_module": "@jupyter-widgets/base",
            "_view_module_version": "1.2.0",
            "_view_name": "StyleView",
            "bar_color": null,
            "description_width": ""
          }
        },
        "c8563a8d9cd84517b7f0ff1e260bbc1b": {
          "model_module": "@jupyter-widgets/base",
          "model_name": "LayoutModel",
          "model_module_version": "1.2.0",
          "state": {
            "_model_module": "@jupyter-widgets/base",
            "_model_module_version": "1.2.0",
            "_model_name": "LayoutModel",
            "_view_count": null,
            "_view_module": "@jupyter-widgets/base",
            "_view_module_version": "1.2.0",
            "_view_name": "LayoutView",
            "align_content": null,
            "align_items": null,
            "align_self": null,
            "border": null,
            "bottom": null,
            "display": null,
            "flex": null,
            "flex_flow": null,
            "grid_area": null,
            "grid_auto_columns": null,
            "grid_auto_flow": null,
            "grid_auto_rows": null,
            "grid_column": null,
            "grid_gap": null,
            "grid_row": null,
            "grid_template_areas": null,
            "grid_template_columns": null,
            "grid_template_rows": null,
            "height": null,
            "justify_content": null,
            "justify_items": null,
            "left": null,
            "margin": null,
            "max_height": null,
            "max_width": null,
            "min_height": null,
            "min_width": null,
            "object_fit": null,
            "object_position": null,
            "order": null,
            "overflow": null,
            "overflow_x": null,
            "overflow_y": null,
            "padding": null,
            "right": null,
            "top": null,
            "visibility": null,
            "width": null
          }
        },
        "114f81ca0e5140afa806beac5450b37e": {
          "model_module": "@jupyter-widgets/controls",
          "model_name": "DescriptionStyleModel",
          "model_module_version": "1.5.0",
          "state": {
            "_model_module": "@jupyter-widgets/controls",
            "_model_module_version": "1.5.0",
            "_model_name": "DescriptionStyleModel",
            "_view_count": null,
            "_view_module": "@jupyter-widgets/base",
            "_view_module_version": "1.2.0",
            "_view_name": "StyleView",
            "description_width": ""
          }
        }
      }
    }
  },
  "nbformat": 4,
  "nbformat_minor": 0
}